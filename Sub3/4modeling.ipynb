{
 "cells": [
  {
   "cell_type": "code",
   "execution_count": 20,
   "outputs": [],
   "source": [
    "import numpy as np\n",
    "import pandas as pd\n",
    "from sklearn.linear_model import Ridge\n",
    "from sklearn.model_selection import train_test_split, GridSearchCV\n",
    "\n",
    "df = pd.read_csv('./data/encoded_data.csv')"
   ],
   "metadata": {
    "collapsed": false,
    "ExecuteTime": {
     "end_time": "2023-12-27T20:24:51.821212867Z",
     "start_time": "2023-12-27T20:24:51.758843799Z"
    }
   },
   "id": "1d0d7e736e1e7527"
  },
  {
   "cell_type": "code",
   "execution_count": 21,
   "outputs": [
    {
     "data": {
      "text/plain": "(14325, 132)"
     },
     "execution_count": 21,
     "metadata": {},
     "output_type": "execute_result"
    }
   ],
   "source": [
    "df.dropna(inplace=True)\n",
    "df.shape"
   ],
   "metadata": {
    "collapsed": false,
    "ExecuteTime": {
     "end_time": "2023-12-27T20:24:52.211847426Z",
     "start_time": "2023-12-27T20:24:52.196392212Z"
    }
   },
   "id": "a6abbfed5a196a04"
  },
  {
   "cell_type": "code",
   "execution_count": 31,
   "outputs": [
    {
     "name": "stdout",
     "output_type": "stream",
     "text": [
      "x_train: (10743, 131) / y_train: (10743,)\n",
      "x_test: (3582, 131) / y_train: (3582,)\n"
     ]
    }
   ],
   "source": [
    "# random_state is the seed for reproducibility\n",
    "response = 'Price'\n",
    "\n",
    "train, test = train_test_split(df, random_state=42)\n",
    "x_train = train.drop([response], axis=1)\n",
    "y_train = train[response]\n",
    "x_test = test.drop([response], axis=1)\n",
    "y_test = test[response]\n",
    "\n",
    "\n",
    "print(f'x_train: {x_train.shape} / y_train: {y_train.shape}')\n",
    "print(f'x_test:  {x_test.shape} / y_train:  {y_test.shape}')\n",
    "\n"
   ],
   "metadata": {
    "collapsed": false,
    "ExecuteTime": {
     "end_time": "2023-12-27T20:42:18.198636191Z",
     "start_time": "2023-12-27T20:42:18.189355463Z"
    }
   },
   "id": "233588ddce866900"
  },
  {
   "cell_type": "code",
   "execution_count": 27,
   "id": "initial_id",
   "metadata": {
    "collapsed": true,
    "ExecuteTime": {
     "end_time": "2023-12-27T20:28:28.340396247Z",
     "start_time": "2023-12-27T20:28:25.854149081Z"
    }
   },
   "outputs": [
    {
     "name": "stdout",
     "output_type": "stream",
     "text": [
      "nan\n"
     ]
    }
   ],
   "source": [
    "# hyperparameters\n",
    "alphas = [(alpha**2)/10 for alpha in range(0, 11)]\n",
    "\n",
    "grid_search = GridSearchCV(estimator=Ridge(), param_grid={'alpha': alphas}, cv=5)\n",
    "grid_search.fit(x_train, y_train)\n",
    "\n",
    "best_alpha = grid_search.best_params_['alpha']"
   ]
  },
  {
   "cell_type": "code",
   "execution_count": null,
   "outputs": [],
   "source": [
    "# how to get scores? "
   ],
   "metadata": {
    "collapsed": false
   },
   "id": "7844875ee3a35268"
  }
 ],
 "metadata": {
  "kernelspec": {
   "display_name": "Python 3",
   "language": "python",
   "name": "python3"
  },
  "language_info": {
   "codemirror_mode": {
    "name": "ipython",
    "version": 2
   },
   "file_extension": ".py",
   "mimetype": "text/x-python",
   "name": "python",
   "nbconvert_exporter": "python",
   "pygments_lexer": "ipython2",
   "version": "2.7.6"
  }
 },
 "nbformat": 4,
 "nbformat_minor": 5
}
